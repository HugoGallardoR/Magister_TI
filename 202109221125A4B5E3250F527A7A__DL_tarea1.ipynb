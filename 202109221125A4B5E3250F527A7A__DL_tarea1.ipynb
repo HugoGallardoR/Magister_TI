{
  "nbformat": 4,
  "nbformat_minor": 0,
  "metadata": {
    "colab": {
      "name": "202109221125A4B5E3250F527A7A__DL_tarea1.ipynb",
      "provenance": [],
      "collapsed_sections": [],
      "include_colab_link": true
    },
    "kernelspec": {
      "name": "python3",
      "display_name": "Python 3"
    },
    "accelerator": "GPU"
  },
  "cells": [
    {
      "cell_type": "markdown",
      "metadata": {
        "id": "view-in-github",
        "colab_type": "text"
      },
      "source": [
        "<a href=\"https://colab.research.google.com/github/HugoGallardoR/Magister_TI/blob/main/202109221125A4B5E3250F527A7A__DL_tarea1.ipynb\" target=\"_parent\"><img src=\"https://colab.research.google.com/assets/colab-badge.svg\" alt=\"Open In Colab\"/></a>"
      ]
    },
    {
      "cell_type": "markdown",
      "metadata": {
        "id": "g2cmRd0lnU69"
      },
      "source": [
        "# **Clasificación de Documentos**\n",
        "En este notebook, experimentarás con el dataset Reuters. Reuters es un dataset de documentos en donde cada documento es representado por un conjunto de palabras desde un vocabulario. El dataset contiene 46 clases. Usaremos un método conveniente de Keras colo para obtener el dataset:"
      ]
    },
    {
      "cell_type": "code",
      "metadata": {
        "id": "TPQnbFWwVWvG"
      },
      "source": [
        "from tensorflow.keras.datasets import reuters\n",
        "import numpy as np\n",
        "import matplotlib.pyplot as plt\n",
        "import copy\n",
        "import random\n",
        "import time"
      ],
      "execution_count": 20,
      "outputs": []
    },
    {
      "cell_type": "markdown",
      "metadata": {
        "id": "7dDEWclKuAk2"
      },
      "source": [
        "Obtenemos el dataset y especificamos el número de palabras del vocaulario original que queremos usar. Este número se convertirá en la dimensión de nuestros datos. La función de Keras retorna un array de listas, donde cada lista es una secuencia de índices de palabras en un documento. Por ejemplo, la secuencia [1, 5, 8] significa que las palabras 1, 5, y 8 están contenidas en el documento. Para pre-procesar esta data, la convertiremos en un one-hot encoding (un vector que contiene un valor 1 en la palabra que aparece en el documento)"
      ]
    },
    {
      "cell_type": "code",
      "metadata": {
        "id": "tk4dgSHuV1jt",
        "colab": {
          "base_uri": "https://localhost:8080/"
        },
        "outputId": "4dfed03f-be34-4e15-8528-5326dbda73be"
      },
      "source": [
        "def to_one_hot(sequences, dimension):\n",
        "    results = np.zeros((len(sequences), dimension))\n",
        "    for i, sequence in enumerate(sequences):\n",
        "        results[i, sequence] = 1\n",
        "    return results\n",
        "    \n",
        "(train_data, train_labels), (test_data, test_labels) = reuters.load_data(num_words = 10000)\n",
        "train_data = to_one_hot(train_data, 10000)\n",
        "test_data = to_one_hot(test_data, 10000)\n",
        "\n",
        "train_data = train_data.astype(np.float32)\n",
        "test_data = test_data.astype(np.float32)\n"
      ],
      "execution_count": 2,
      "outputs": [
        {
          "output_type": "stream",
          "name": "stdout",
          "text": [
            "Downloading data from https://storage.googleapis.com/tensorflow/tf-keras-datasets/reuters.npz\n",
            "2113536/2110848 [==============================] - 0s 0us/step\n",
            "2121728/2110848 [==============================] - 0s 0us/step\n"
          ]
        }
      ]
    },
    {
      "cell_type": "markdown",
      "metadata": {
        "id": "4L_Q-tbcmh1d"
      },
      "source": [
        "Ahora la data tiene la forma de una matriz con dimensiones NxM, donde N es la cantidad de muestras y M es la dimensión de cada muestra."
      ]
    },
    {
      "cell_type": "code",
      "metadata": {
        "colab": {
          "base_uri": "https://localhost:8080/"
        },
        "id": "K1YHLnZRmsP9",
        "outputId": "1074c52e-a710-4212-bc83-c22e51dcd6ed"
      },
      "source": [
        "print(f'Tamaño de datos de entrenamiento: {train_data.shape}')\n",
        "print(f'Tamaño de datos de test: {test_data.shape}')\n",
        "\n",
        "#Existen 8982 muestras para entrenamiento y 2246 muestras para test"
      ],
      "execution_count": 3,
      "outputs": [
        {
          "output_type": "stream",
          "name": "stdout",
          "text": [
            "Tamaño de datos de entrenamiento: (8982, 10000)\n",
            "Tamaño de datos de test: (2246, 10000)\n"
          ]
        }
      ]
    },
    {
      "cell_type": "markdown",
      "metadata": {
        "id": "_iFxcUJ3zyR1"
      },
      "source": [
        "## **Tarea**\n",
        "El objetivo de esta tarea es implementar una red neuronal en Pytorch que nos permita clasificar el dataset Reuters. La red neuronal implementada debe alcanzar al menos un accuracy de 35% sobre el conjunto de test."
      ]
    },
    {
      "cell_type": "markdown",
      "metadata": {
        "id": "uhdyD7TInMTd"
      },
      "source": [
        "## 1. Preparar la data\n",
        "Empezaremos por preparar la data para poder usarla en Pytorch. Para eso haremos uso de los DataLoaders. En el código inicial, el tamaño de batch está configurado en 1, pero puedes cambiar este valor y experimentar (se sugiere usar valores de batch_size más grandes que uno)."
      ]
    },
    {
      "cell_type": "code",
      "metadata": {
        "id": "6OnII2BMBTs2"
      },
      "source": [
        "import torch.utils.data as data\n",
        "import torch.nn as nn\n",
        "import torch.optim as optim\n",
        "import torch\n",
        "import torch.nn.functional as F\n",
        "\n",
        "#Se comienza utilizando un batch_size de 10\n",
        "train_loader = data.DataLoader(list(zip(train_data, train_labels)), shuffle=True, batch_size=100)\n",
        "test_loader = data.DataLoader(list(zip(test_data, test_labels)), batch_size=100)"
      ],
      "execution_count": 23,
      "outputs": []
    },
    {
      "cell_type": "code",
      "metadata": {
        "id": "wTXydqDTjFcw",
        "colab": {
          "base_uri": "https://localhost:8080/"
        },
        "outputId": "1a849f15-0dde-4359-d36f-042310ae7364"
      },
      "source": [
        "# Cuando iteramos sobre el loader, obtenemos cada mini-batch y lo mostramos en pantalla\n",
        "# Cada mini-batch es un conjunto de muestras con su respectivo conjunto de etiquetas\n",
        "for sample in test_loader:\n",
        "  print(sample)"
      ],
      "execution_count": 11,
      "outputs": [
        {
          "output_type": "stream",
          "name": "stdout",
          "text": [
            "[tensor([[0., 1., 1.,  ..., 0., 0., 0.],\n",
            "        [0., 1., 1.,  ..., 0., 0., 0.],\n",
            "        [0., 1., 1.,  ..., 0., 0., 0.],\n",
            "        ...,\n",
            "        [0., 1., 0.,  ..., 0., 0., 0.],\n",
            "        [0., 1., 1.,  ..., 0., 0., 0.],\n",
            "        [0., 1., 1.,  ..., 0., 0., 0.]]), tensor([ 3, 10,  1,  4,  4,  3,  3,  3,  3,  3,  5,  4,  1,  3,  1, 11, 23,  3,\n",
            "        19,  3,  8,  3,  3,  3,  9,  3,  4,  6, 10,  3,  3, 10, 20,  1, 19,  4,\n",
            "        40,  1,  4,  3, 15, 21,  3, 34,  4,  4,  3,  4,  3, 11, 20,  3,  1,  3,\n",
            "         3,  4, 26,  4, 20, 19,  4,  3,  4,  4,  4,  3,  3,  1,  3,  4, 21, 16,\n",
            "         3, 19, 43,  2,  1,  3, 39,  4,  3,  3,  3, 11, 19, 20,  1, 11,  4,  3,\n",
            "         3,  4,  3,  4,  3, 11, 11,  3, 20, 28])]\n",
            "[tensor([[0., 1., 1.,  ..., 0., 0., 0.],\n",
            "        [0., 1., 0.,  ..., 0., 0., 0.],\n",
            "        [0., 1., 1.,  ..., 0., 0., 0.],\n",
            "        ...,\n",
            "        [0., 1., 1.,  ..., 0., 0., 0.],\n",
            "        [0., 1., 1.,  ..., 0., 0., 0.],\n",
            "        [0., 1., 1.,  ..., 0., 0., 0.]]), tensor([ 8,  1, 20,  3,  3,  2,  4,  4,  4,  4,  3,  3,  4,  3, 33,  3,  4,  4,\n",
            "         3,  4,  3,  4, 19,  4, 18,  3, 19,  3,  3,  3, 19,  3,  1,  3, 23,  4,\n",
            "        13,  1,  3,  3,  3,  3,  4,  4, 19,  4,  4, 24,  3,  3, 11,  4,  3,  3,\n",
            "        41,  1,  3,  3, 11, 17,  3,  3,  2,  4,  3,  4,  3, 10,  3,  3,  3, 20,\n",
            "         3, 12, 18, 21,  1, 17,  3,  3, 19, 20,  3, 19,  3, 21,  3,  3,  6, 35,\n",
            "        19,  3, 34, 36,  8, 21,  3,  4, 25,  4])]\n",
            "[tensor([[0., 1., 1.,  ..., 0., 0., 0.],\n",
            "        [0., 1., 1.,  ..., 0., 0., 0.],\n",
            "        [0., 1., 0.,  ..., 0., 0., 0.],\n",
            "        ...,\n",
            "        [0., 1., 1.,  ..., 0., 0., 0.],\n",
            "        [0., 1., 1.,  ..., 0., 0., 0.],\n",
            "        [0., 1., 0.,  ..., 0., 0., 0.]]), tensor([16, 16, 19,  3,  3,  4,  4, 19,  2,  4,  3,  4,  3,  3,  3, 20,  4, 26,\n",
            "         3,  3,  3,  3,  3,  4, 13,  3, 31, 16, 20,  3,  4, 19, 20, 11,  9,  1,\n",
            "         3,  3, 13,  3, 19,  1,  4,  4, 11,  3,  3,  4, 19,  3,  4,  4,  3,  3,\n",
            "        25,  4, 31,  4, 26, 11, 19,  4,  4,  4, 18,  3,  4,  4,  3, 10,  4, 19,\n",
            "         3,  3, 20,  3,  4, 19, 16,  3,  3,  4, 16,  4,  3,  3,  3,  3,  4, 10,\n",
            "         3, 25,  1,  3,  4, 16,  4,  4,  4, 16])]\n",
            "[tensor([[0., 1., 0.,  ..., 0., 0., 0.],\n",
            "        [0., 1., 1.,  ..., 0., 0., 0.],\n",
            "        [0., 1., 0.,  ..., 0., 0., 0.],\n",
            "        ...,\n",
            "        [0., 1., 1.,  ..., 0., 0., 0.],\n",
            "        [0., 1., 1.,  ..., 0., 0., 0.],\n",
            "        [0., 1., 1.,  ..., 0., 0., 0.]]), tensor([ 3, 11,  3, 19, 16,  3,  6,  3, 16,  3, 16, 21,  4,  3,  4,  1, 16,  4,\n",
            "         2,  3, 35,  3, 25,  8,  3,  3, 19,  3, 19,  4, 19,  3,  4,  3,  3, 19,\n",
            "         4, 19, 26,  3, 19, 24,  3,  3,  4,  3,  4,  3, 17,  4,  4,  3,  3,  3,\n",
            "        19, 43,  3,  9,  3,  4,  4, 10,  4, 21,  3,  3,  9,  3,  3, 11, 11,  1,\n",
            "         4,  1, 11,  3, 38,  3,  3,  3, 10,  3, 19, 16, 19, 20,  6,  3,  4, 39,\n",
            "         3, 44, 16,  3, 22,  3,  3, 16,  1, 19])]\n",
            "[tensor([[0., 1., 0.,  ..., 0., 0., 0.],\n",
            "        [0., 1., 1.,  ..., 0., 0., 0.],\n",
            "        [0., 1., 1.,  ..., 0., 0., 0.],\n",
            "        ...,\n",
            "        [0., 1., 0.,  ..., 0., 0., 0.],\n",
            "        [0., 1., 1.,  ..., 0., 0., 0.],\n",
            "        [0., 1., 0.,  ..., 0., 0., 0.]]), tensor([ 4, 11,  9,  3,  4,  3,  3,  3,  1,  3,  3,  4, 13,  3,  3,  4,  3,  4,\n",
            "        24,  4,  3,  1, 24,  4,  3,  1, 41, 13,  3, 21,  1,  3,  3,  3,  3,  9,\n",
            "         4,  2, 19, 19, 32,  3,  4,  3,  4,  8, 19,  1,  3, 12, 19, 19, 34,  3,\n",
            "         4,  3,  3,  1, 39, 19,  4,  4,  4,  3,  4,  4, 22, 13,  4,  3, 19,  4,\n",
            "         4,  3, 20,  1,  4,  3,  3,  3,  3,  3, 16,  4, 11,  3, 19, 40,  4,  3,\n",
            "         3,  3,  3,  4,  4, 25,  6,  3,  4,  3])]\n",
            "[tensor([[0., 1., 1.,  ..., 0., 0., 0.],\n",
            "        [0., 1., 1.,  ..., 0., 0., 0.],\n",
            "        [0., 1., 1.,  ..., 0., 0., 0.],\n",
            "        ...,\n",
            "        [0., 1., 1.,  ..., 0., 0., 0.],\n",
            "        [0., 1., 0.,  ..., 0., 0., 0.],\n",
            "        [0., 1., 1.,  ..., 0., 0., 0.]]), tensor([ 3,  3,  4,  1,  4,  4,  3,  4,  4,  4,  3,  1, 19, 41, 15,  4,  9,  1,\n",
            "         3, 11,  3,  3,  4, 21,  4, 19, 19, 13,  4, 44,  4, 13,  4, 20,  4,  4,\n",
            "         3, 19, 30, 26,  2, 24,  3, 37,  4, 20, 31,  4, 34,  3,  4,  3, 16, 31,\n",
            "        10,  3,  3, 19, 16, 32,  3, 20,  3,  3, 41, 11,  3,  4,  4,  8,  3,  8,\n",
            "        16,  3,  3,  4,  4, 19,  4,  3,  3, 16,  3,  3, 16,  4, 25, 36,  4, 28,\n",
            "         4, 19,  4,  3, 20,  3,  3, 16,  3, 36])]\n",
            "[tensor([[0., 1., 0.,  ..., 0., 0., 0.],\n",
            "        [0., 1., 0.,  ..., 0., 0., 0.],\n",
            "        [0., 1., 1.,  ..., 0., 0., 0.],\n",
            "        ...,\n",
            "        [0., 1., 1.,  ..., 0., 0., 0.],\n",
            "        [0., 1., 1.,  ..., 0., 0., 0.],\n",
            "        [0., 1., 1.,  ..., 0., 0., 0.]]), tensor([ 3, 18,  3,  3,  4, 20,  4,  3,  4, 11, 19, 20,  4,  4,  3,  3,  3,  4,\n",
            "         0,  1,  4,  3,  3,  1, 39,  3, 19, 36,  3, 11,  4,  3, 16,  3,  3,  3,\n",
            "         4, 35, 19,  3,  3,  3,  3,  3,  3, 16, 18,  3, 19,  1, 16,  4,  3,  3,\n",
            "         4,  3,  1,  1,  4, 22,  4, 19,  3, 12,  8,  3,  3,  4, 23,  3,  4,  4,\n",
            "         3,  4,  3,  3, 20,  1, 12,  3,  4, 16,  3, 16,  3,  3,  3,  1,  3, 19,\n",
            "        20,  4,  2,  3,  3, 20, 35, 11,  1,  4])]\n",
            "[tensor([[0., 1., 1.,  ..., 0., 0., 0.],\n",
            "        [0., 1., 0.,  ..., 0., 0., 0.],\n",
            "        [0., 1., 1.,  ..., 0., 0., 0.],\n",
            "        ...,\n",
            "        [0., 1., 1.,  ..., 0., 0., 0.],\n",
            "        [0., 1., 1.,  ..., 0., 0., 0.],\n",
            "        [0., 1., 1.,  ..., 0., 0., 0.]]), tensor([11, 28, 13,  4,  3, 25,  3, 19,  3, 21, 23,  3,  3,  1,  8,  3,  3, 40,\n",
            "         3, 40,  4, 11,  4,  4,  4, 11,  3, 23,  3, 19,  3, 30,  3, 16,  3,  3,\n",
            "        19,  3,  4,  3,  4,  9,  3,  0, 42,  3,  4,  3, 16,  3,  4,  3,  3,  3,\n",
            "         4, 16,  3,  4,  4,  5, 11,  8,  3,  4,  3,  4,  3,  3, 16, 19,  3,  4,\n",
            "         3, 10,  3,  3,  3, 11,  3, 11,  0,  3, 24,  3,  1,  3, 13, 37,  3,  3,\n",
            "         3, 21, 10,  3,  4,  4,  3, 19,  4, 20])]\n",
            "[tensor([[0., 1., 1.,  ..., 0., 0., 0.],\n",
            "        [0., 1., 1.,  ..., 0., 0., 0.],\n",
            "        [0., 1., 1.,  ..., 0., 0., 0.],\n",
            "        ...,\n",
            "        [0., 1., 1.,  ..., 0., 0., 0.],\n",
            "        [0., 1., 0.,  ..., 0., 0., 0.],\n",
            "        [0., 1., 1.,  ..., 0., 0., 0.]]), tensor([ 9,  4,  4,  3, 36,  4, 11,  4,  4,  3,  4,  3,  3,  3, 11,  1,  3,  3,\n",
            "        20,  1, 23, 20, 32,  3,  3,  3, 12,  3,  3, 11,  3,  3,  4, 19,  3,  3,\n",
            "        31, 10,  3,  3,  3,  1, 11,  3, 20,  6, 41,  4, 11,  9,  3,  3, 19, 27,\n",
            "        11,  8,  4,  3, 28, 11,  3, 16, 11,  4, 24, 16, 11, 10, 16,  3, 16, 19,\n",
            "        24,  3, 26, 32, 16, 19,  3,  3, 15,  3,  8,  3,  4,  1,  1, 13, 41,  4,\n",
            "        14, 23, 19,  3,  3,  3, 28, 11,  7,  4])]\n",
            "[tensor([[0., 1., 0.,  ..., 0., 0., 0.],\n",
            "        [0., 1., 0.,  ..., 0., 0., 0.],\n",
            "        [0., 1., 0.,  ..., 0., 0., 0.],\n",
            "        ...,\n",
            "        [0., 1., 0.,  ..., 0., 0., 0.],\n",
            "        [0., 1., 1.,  ..., 0., 0., 0.],\n",
            "        [0., 1., 1.,  ..., 0., 0., 0.]]), tensor([ 3,  8,  8, 19, 20,  4,  3,  4,  3,  3,  4, 33, 19,  3,  3,  3, 11, 21,\n",
            "         4,  4, 19,  3,  4,  3,  3, 19,  3,  3, 20,  3, 19, 19, 24, 28, 20,  3,\n",
            "        25,  5,  4, 20, 24,  4, 19,  4, 21,  4,  3,  4, 16,  1, 19,  1,  3,  4,\n",
            "         3,  3, 24,  8, 32, 25,  3, 16,  3,  3,  3, 16,  4,  3, 25,  3, 18,  3,\n",
            "        19,  3,  4,  3,  3, 16,  3,  4,  1,  6, 12, 11,  3,  3, 25,  4,  0,  3,\n",
            "        15, 19, 16,  3,  4,  3,  4,  3, 20,  3])]\n",
            "[tensor([[0., 1., 1.,  ..., 0., 0., 0.],\n",
            "        [0., 1., 0.,  ..., 0., 0., 0.],\n",
            "        [0., 1., 0.,  ..., 0., 0., 0.],\n",
            "        ...,\n",
            "        [0., 1., 1.,  ..., 0., 0., 0.],\n",
            "        [0., 1., 1.,  ..., 0., 0., 0.],\n",
            "        [0., 1., 1.,  ..., 0., 0., 0.]]), tensor([13,  3, 29, 16,  4, 21,  4, 31,  3,  9,  3,  3,  4,  1,  3,  1,  4,  1,\n",
            "        13,  4,  9,  3,  3,  4, 11,  4,  4,  3,  3,  3, 20,  3,  3,  1,  4,  4,\n",
            "         3,  3, 17, 19,  3, 16, 31, 10,  3, 34,  3,  4,  4,  3, 16, 16,  3,  4,\n",
            "         3,  4, 25,  3, 26,  3,  3,  4, 24,  4, 40,  3,  3,  4,  4,  4,  3,  3,\n",
            "         2,  6,  3,  3,  3,  4,  3, 19,  4, 28,  3, 16,  4, 21,  1,  3,  4, 31,\n",
            "         8,  3,  4,  3,  3,  3,  4, 19,  3,  3])]\n",
            "[tensor([[0., 1., 1.,  ..., 0., 0., 0.],\n",
            "        [0., 1., 0.,  ..., 0., 0., 0.],\n",
            "        [0., 1., 1.,  ..., 0., 0., 0.],\n",
            "        ...,\n",
            "        [0., 1., 1.,  ..., 0., 0., 0.],\n",
            "        [0., 1., 0.,  ..., 0., 0., 0.],\n",
            "        [0., 1., 1.,  ..., 0., 0., 0.]]), tensor([ 1,  3,  3,  3,  1, 25,  4,  4, 19,  9,  3,  8, 17,  4,  3,  4, 19,  3,\n",
            "         3,  3,  3,  4,  5, 19,  3, 17,  3, 20,  4,  3,  3, 17,  2,  3, 39, 10,\n",
            "         8,  1, 25,  3,  4,  3, 13,  3, 43, 11, 20, 33,  3,  3,  3,  3,  3,  6,\n",
            "        20,  8,  3, 12,  3,  3,  3,  3,  1,  3,  3, 20,  0,  4,  3,  6, 30,  3,\n",
            "         3,  3,  3,  4, 11,  4,  1,  4,  3, 20, 18, 19,  3,  3,  3,  4, 12,  3,\n",
            "        20, 26,  3, 19, 27, 23,  3, 11,  3, 18])]\n",
            "[tensor([[0., 1., 1.,  ..., 0., 0., 0.],\n",
            "        [0., 1., 1.,  ..., 0., 0., 0.],\n",
            "        [0., 1., 0.,  ..., 0., 0., 0.],\n",
            "        ...,\n",
            "        [0., 1., 1.,  ..., 0., 0., 0.],\n",
            "        [0., 1., 1.,  ..., 0., 0., 0.],\n",
            "        [0., 1., 0.,  ..., 0., 0., 0.]]), tensor([ 4,  4,  3,  3, 11,  3,  4,  8,  4,  8,  3,  3,  3,  4,  4,  3,  4,  3,\n",
            "         2,  3,  4,  3,  4,  4,  4, 15,  3,  4,  7, 19,  3, 19,  4,  4,  4,  3,\n",
            "         3,  3,  3, 19, 16,  3,  4,  3,  3,  4, 19, 16,  8, 16,  3, 44,  3, 11,\n",
            "        10,  3,  4,  4, 40,  4,  4,  3,  3, 19, 19, 16,  4,  4, 16, 11,  3,  2,\n",
            "        42,  1,  4, 25,  4, 11,  1, 19,  3, 25,  3,  3, 34,  3,  3,  1,  3,  3,\n",
            "         3,  4, 19, 13,  3,  4,  3,  3, 11, 18])]\n",
            "[tensor([[0., 1., 1.,  ..., 0., 0., 0.],\n",
            "        [0., 1., 1.,  ..., 0., 0., 0.],\n",
            "        [0., 1., 0.,  ..., 0., 0., 0.],\n",
            "        ...,\n",
            "        [0., 1., 1.,  ..., 0., 0., 0.],\n",
            "        [0., 1., 1.,  ..., 0., 0., 0.],\n",
            "        [0., 1., 1.,  ..., 0., 0., 0.]]), tensor([16,  4, 20,  3,  4,  4,  4,  1,  3,  4,  4,  4,  3, 19, 13, 36,  4, 13,\n",
            "         4,  4,  3,  3,  4, 21, 13,  3,  3,  3, 25, 24,  4,  4,  7, 40,  3,  4,\n",
            "        38, 19,  3,  3,  4,  3, 19,  3,  4,  4, 13,  4, 11,  4, 15, 27,  4, 19,\n",
            "        16, 32,  3, 16,  3,  4,  1,  3,  4,  4, 30,  3, 13, 10, 16, 19, 11,  1,\n",
            "         3,  3,  3,  3, 11, 19, 20,  3,  4, 19,  3,  4,  3, 15, 21,  3, 21,  4,\n",
            "         6, 24,  4, 22,  1,  4,  3,  1,  4, 11])]\n",
            "[tensor([[0., 1., 1.,  ..., 0., 0., 0.],\n",
            "        [0., 1., 1.,  ..., 0., 0., 0.],\n",
            "        [0., 1., 1.,  ..., 0., 0., 0.],\n",
            "        ...,\n",
            "        [0., 1., 1.,  ..., 0., 0., 0.],\n",
            "        [0., 1., 1.,  ..., 0., 0., 0.],\n",
            "        [0., 1., 1.,  ..., 0., 0., 0.]]), tensor([22, 16,  4,  3,  4,  3, 19,  4,  4,  1,  3, 19, 28,  3,  3,  4, 21,  3,\n",
            "         4,  8,  3,  3,  4, 16, 19,  3,  4,  0, 17,  3,  1,  3,  3,  3,  4,  3,\n",
            "         3,  6,  4, 16,  3,  4, 11,  1,  3,  3,  8, 25,  3,  3, 13,  4,  3,  4,\n",
            "         3,  3,  4,  3,  3, 13,  3,  3,  3,  4, 17,  4,  3,  3,  3, 19,  3, 16,\n",
            "         3,  4,  4, 16, 11,  9,  3, 23,  4,  3,  4,  3, 36,  4,  3,  3, 23, 19,\n",
            "        10,  1, 44,  3,  3, 25, 41,  3, 25,  3])]\n",
            "[tensor([[0., 1., 0.,  ..., 0., 0., 0.],\n",
            "        [0., 1., 0.,  ..., 0., 0., 0.],\n",
            "        [0., 1., 1.,  ..., 0., 0., 0.],\n",
            "        ...,\n",
            "        [0., 1., 0.,  ..., 0., 0., 0.],\n",
            "        [0., 1., 0.,  ..., 0., 0., 0.],\n",
            "        [0., 1., 1.,  ..., 0., 0., 0.]]), tensor([ 3,  3, 16, 16, 36, 38,  4, 11, 11,  3,  3, 20,  4, 16,  9, 19, 32, 19,\n",
            "         4,  9,  4, 10,  4, 20,  3, 41,  4,  3, 33,  3, 30,  1, 19,  3,  4, 20,\n",
            "         3,  4,  3,  8,  3, 13,  4, 11,  3, 16, 10,  4, 16,  4,  1, 13, 19,  3,\n",
            "         4, 16,  3,  3,  4,  1, 18,  1,  3,  4,  4, 20,  3,  3, 11, 31, 10,  4,\n",
            "        25, 25,  3,  1,  3,  3,  1,  3,  3, 16,  3, 21,  3,  3, 22, 19, 29, 20,\n",
            "         3,  3, 30,  4,  3,  3,  3, 11,  3,  3])]\n",
            "[tensor([[0., 1., 1.,  ..., 0., 0., 0.],\n",
            "        [0., 1., 0.,  ..., 0., 0., 0.],\n",
            "        [0., 1., 1.,  ..., 0., 0., 0.],\n",
            "        ...,\n",
            "        [0., 1., 0.,  ..., 0., 0., 0.],\n",
            "        [0., 1., 0.,  ..., 0., 0., 0.],\n",
            "        [0., 1., 1.,  ..., 0., 0., 0.]]), tensor([ 3,  3, 20, 25,  4,  4,  3, 12, 19,  4, 19,  4,  3, 16,  9,  3,  4,  4,\n",
            "         3,  4,  3,  3,  3, 19,  2,  4,  3, 16,  3, 19, 11,  1,  3,  3,  3,  1,\n",
            "         4,  4, 11, 20,  3,  4, 33,  4, 16,  2,  4, 25,  4,  3,  3,  4,  3,  3,\n",
            "        20,  4,  3,  4,  3, 16,  3,  3,  3,  4,  4,  1, 19,  3,  3,  4,  4,  3,\n",
            "         1,  3,  3,  4, 25, 11,  8,  3, 28, 12, 29,  1,  3,  3,  4,  3,  4,  3,\n",
            "        25,  8,  3,  4,  4,  4,  0,  1, 31,  3])]\n",
            "[tensor([[0., 1., 0.,  ..., 0., 0., 0.],\n",
            "        [0., 1., 0.,  ..., 0., 0., 0.],\n",
            "        [0., 1., 1.,  ..., 0., 0., 0.],\n",
            "        ...,\n",
            "        [0., 1., 0.,  ..., 0., 0., 0.],\n",
            "        [0., 1., 0.,  ..., 0., 0., 0.],\n",
            "        [0., 1., 0.,  ..., 0., 0., 0.]]), tensor([ 3,  1,  4,  3,  4,  3,  3,  3,  3, 11,  4,  3,  1, 20,  4,  8,  4,  3,\n",
            "        34, 17, 20, 15,  3, 13, 25,  4,  3, 21,  4,  4,  3,  3, 19, 43,  4,  3,\n",
            "         4,  1, 36, 10, 43,  3,  3, 12,  2,  3,  4,  1,  4,  4,  4,  8,  3,  3,\n",
            "         4,  4,  1,  3,  9, 11, 11, 16, 16,  6,  4,  4, 19, 16,  1, 16,  9,  1,\n",
            "         4,  4,  3,  4, 16,  0,  3, 14,  4,  4,  3,  3,  3,  3, 19,  2, 18, 20,\n",
            "        13,  4,  3,  3,  3,  1, 27,  3,  3,  3])]\n",
            "[tensor([[0., 1., 1.,  ..., 0., 0., 0.],\n",
            "        [0., 1., 1.,  ..., 0., 0., 0.],\n",
            "        [0., 1., 1.,  ..., 0., 0., 0.],\n",
            "        ...,\n",
            "        [0., 1., 0.,  ..., 0., 0., 0.],\n",
            "        [0., 1., 1.,  ..., 0., 0., 0.],\n",
            "        [0., 1., 1.,  ..., 0., 0., 0.]]), tensor([30, 16,  8, 16,  4,  4,  9,  3,  3,  4, 19, 21,  9, 35,  4, 16, 11,  3,\n",
            "         4,  4,  4, 11, 24,  3,  3,  3, 18, 29, 16,  1,  3, 20,  4,  2,  4,  3,\n",
            "         1, 13,  4,  3,  3, 24,  8,  4, 31, 32, 10, 16, 16,  3, 30, 21,  3,  3,\n",
            "         4,  4,  3,  3, 12, 20,  3,  3,  4,  3, 44,  4,  3,  3,  4, 10, 20,  9,\n",
            "         3,  4,  4, 19,  3,  5, 19,  9,  1,  3,  3,  3,  3,  3,  3,  3,  3,  3,\n",
            "         3,  3,  3,  3,  3, 30, 13,  3, 18,  3])]\n",
            "[tensor([[0., 1., 1.,  ..., 0., 0., 0.],\n",
            "        [0., 1., 1.,  ..., 0., 0., 0.],\n",
            "        [0., 1., 1.,  ..., 0., 0., 0.],\n",
            "        ...,\n",
            "        [0., 1., 1.,  ..., 0., 0., 0.],\n",
            "        [0., 1., 1.,  ..., 0., 0., 0.],\n",
            "        [0., 1., 1.,  ..., 0., 0., 0.]]), tensor([ 0,  9, 28, 11,  4,  3, 19, 16, 16,  4, 13,  3,  4,  3,  4, 25,  4,  4,\n",
            "         4,  4,  3,  3, 21,  3,  3,  4,  3, 24, 11,  3,  4,  4,  4,  3,  4, 19,\n",
            "         4,  4, 18, 19, 13,  4, 16,  4,  3, 32,  4,  3,  3, 16, 20,  3,  4,  3,\n",
            "        10,  3, 11,  4,  3,  3,  3,  3,  3, 19,  4,  3, 20,  3, 16,  4,  4,  3,\n",
            "         3,  1,  3, 16,  3,  4,  3,  3,  4,  3, 42, 18,  3, 32,  3,  3,  4,  3,\n",
            "        13, 10,  2,  1,  4,  4,  3,  4,  4, 19])]\n",
            "[tensor([[0., 1., 1.,  ..., 0., 0., 0.],\n",
            "        [0., 1., 1.,  ..., 0., 0., 0.],\n",
            "        [0., 1., 0.,  ..., 0., 0., 0.],\n",
            "        ...,\n",
            "        [0., 1., 1.,  ..., 0., 0., 0.],\n",
            "        [0., 1., 1.,  ..., 0., 0., 0.],\n",
            "        [0., 1., 1.,  ..., 0., 0., 0.]]), tensor([ 4,  4,  3, 11,  4, 16,  8,  3,  4,  3,  0, 20,  2,  3,  4, 25, 19,  3,\n",
            "        17,  3,  3,  3, 11, 16, 11,  3,  4,  3, 19,  3,  3, 19, 13,  3, 16,  3,\n",
            "         3, 11,  3, 19, 10,  1, 16, 23, 16,  1, 45, 19,  4,  4,  3,  3,  3, 20,\n",
            "        20,  4,  3, 19,  3,  8, 19,  3,  3, 25, 20, 30,  1,  0, 43,  3,  3,  3,\n",
            "         4, 19,  1,  3,  4,  4,  3,  4, 23,  3,  4,  3, 21,  3,  9,  3, 16,  3,\n",
            "        31, 18,  3,  8,  3,  8,  4,  3,  4,  1])]\n",
            "[tensor([[0., 1., 0.,  ..., 0., 0., 0.],\n",
            "        [0., 1., 0.,  ..., 0., 0., 0.],\n",
            "        [0., 1., 1.,  ..., 0., 0., 0.],\n",
            "        ...,\n",
            "        [0., 1., 1.,  ..., 0., 0., 0.],\n",
            "        [0., 1., 1.,  ..., 0., 0., 0.],\n",
            "        [0., 1., 1.,  ..., 0., 0., 0.]]), tensor([ 3,  3,  3,  3, 18,  4,  3,  3,  4,  4,  3,  4, 20,  4,  3,  3,  3, 16,\n",
            "        22, 35, 18,  3, 21,  4, 16,  6, 18,  3,  4,  3,  4,  4, 10, 20,  3,  3,\n",
            "        11, 19, 36,  4,  1,  3, 20, 17, 13,  3,  3,  3, 13,  0, 11,  1, 11,  3,\n",
            "         3,  3, 20,  4,  4,  3, 40,  1,  3, 20, 24, 11, 11, 16,  3, 40,  3, 36,\n",
            "        20,  3, 31, 11, 20, 40,  4,  3,  3,  3,  4,  4, 19, 19,  4,  4,  4,  1,\n",
            "         3,  4,  3,  3, 25, 12,  4, 10,  3, 11])]\n",
            "[tensor([[0., 1., 0.,  ..., 0., 0., 0.],\n",
            "        [0., 1., 0.,  ..., 0., 0., 0.],\n",
            "        [0., 1., 1.,  ..., 0., 0., 0.],\n",
            "        ...,\n",
            "        [0., 1., 0.,  ..., 0., 0., 0.],\n",
            "        [0., 1., 1.,  ..., 0., 0., 0.],\n",
            "        [0., 1., 1.,  ..., 0., 0., 0.]]), tensor([20,  3,  3,  4,  4,  4,  3,  3, 13, 30,  4,  3,  3, 19,  3,  8,  3, 10,\n",
            "         3, 15, 21, 13,  8, 30, 16,  3,  4, 20,  3, 13,  3,  3,  3, 11, 18,  2,\n",
            "         3, 16,  3,  3,  3,  3,  8,  3,  3, 24])]\n"
          ]
        }
      ]
    },
    {
      "cell_type": "markdown",
      "metadata": {
        "id": "RjudrYzColns"
      },
      "source": [
        "## 2. Creación de red neuronal\n",
        "A continuación, crea tu red neuronal especificando una clase con los métodos constructor y forward"
      ]
    },
    {
      "cell_type": "code",
      "metadata": {
        "id": "1TOtwJKMn8sx"
      },
      "source": [
        "class RedNeuronal(nn.Module):\n",
        "  #Constructor es para definiciones de variables. Aquí recibimos como parámetro las dimensiones de la data de entrada\n",
        "  # y la cantidad de clases de salida\n",
        "  #OBS:Ocupo redes con 10000 para hacer match con el input\n",
        "  def __init__(self, input_dim, output_dim):\n",
        "    super().__init__()\n",
        "    self.fc1 = nn.Linear(input_dim, 10000)\n",
        "    self.fc2 = nn.Linear(10000, 5000)\n",
        "    self.fc3 = nn.Linear(5000, output_dim)    \n",
        "    #Aquí tienes que especificar la arquitectura de tu red.\n",
        "    \n",
        "  def forward(self, input):\n",
        "    #Aquí especificas lo que pasa cuando a la red se le pone datos\n",
        "    batch_size = input.shape[0]\n",
        "    #View modifica la forma de la data, para que el input tenga la forma  de batch_size\n",
        "    input = input.view(batch_size, -1)\n",
        "    h_1 = F.relu(self.fc1(input))\n",
        "    h_2 = F.relu(self.fc2(h_1))\n",
        "    y_pred = self.fc3(h_2)\n",
        "    #Retorna la salida de la red, y el vector de salida de la segunda capa (Para posterior analisis)\n",
        "    return y_pred, h_2"
      ],
      "execution_count": 27,
      "outputs": []
    },
    {
      "cell_type": "markdown",
      "metadata": {
        "id": "YRCrQUaipdro"
      },
      "source": [
        "Luego, creas una instancia de tu red neuronal. A continuación debes especificar el tamaño de la entrada y el tamaño de la salida para instanciar tu red."
      ]
    },
    {
      "cell_type": "code",
      "metadata": {
        "id": "mIc11MFUpMYT"
      },
      "source": [
        "# Creamos el modelo\n",
        "## Aquí tienes que cambiar estas dimensiones de acuerdo al problema a resolver\n",
        "INPUT_DIM = 10000\n",
        "OUTPUT_DIM = 46\n",
        "\n",
        "model = RedNeuronal(INPUT_DIM, OUTPUT_DIM)"
      ],
      "execution_count": 13,
      "outputs": []
    },
    {
      "cell_type": "markdown",
      "metadata": {
        "id": "IxAFYhzkp03V"
      },
      "source": [
        "Configuramos el optimizador y la función de Loss"
      ]
    },
    {
      "cell_type": "code",
      "metadata": {
        "id": "yH48kdvFpsiS"
      },
      "source": [
        "#Crear el objeto para la optimización. \n",
        "optimizer = optim.SGD(model.parameters(), lr=0.001)\n",
        "\n",
        "#Definir la función Loss\n",
        "#En Pytorch, CrossEntropyLoss incluye la activación Softmax y la función de costo \"negative log-likelihood\"\n",
        "#Van juntas por cuestiones de eficiencia\n",
        "\n",
        "criterion = nn.CrossEntropyLoss()\n",
        "\n",
        "#En Pytorch nosotros decidimos dónde correr nuestro programa, así que inicializamos el \n",
        "# dispositivo dependiendo si tenemos un GPU o no\n",
        "\n",
        "device = torch.device('cuda' if torch.cuda.is_available() else 'cpu')\n",
        "\n",
        "#Enviamos el modelo y la función Loss al GPU\n",
        "\n",
        "model = model.to(device)\n",
        "criterion = criterion.to(device)"
      ],
      "execution_count": 15,
      "outputs": []
    },
    {
      "cell_type": "code",
      "metadata": {
        "id": "PO6ORo8sNH1b"
      },
      "source": [
        "#Funciona para calcular el accuracy\n",
        "\n",
        "def calculate_accuracy(y_pred, y):\n",
        "  top_pred = y_pred.argmax(1, keepdim=True)\n",
        "  correct = top_pred.eq(y.view_as(top_pred)).sum()\n",
        "  acc = correct.float()/y.shape[0]\n",
        "  return acc"
      ],
      "execution_count": 14,
      "outputs": []
    },
    {
      "cell_type": "markdown",
      "metadata": {
        "id": "IRtu06_7qcnx"
      },
      "source": [
        "## 3. Entrena tu red neuronal\n",
        "\n",
        "Entrena tu red neuronal usando Pytorch. Usa el ejemplo de clase para hacer el entrenamiento de tu red."
      ]
    },
    {
      "cell_type": "code",
      "metadata": {
        "id": "b_NdouqgrXBT"
      },
      "source": [
        "#Se genera funcion de entrenamiento\n",
        "#Se usan como inputs todo lo generado anteriormente\n",
        "#iterator se ingresa la data de training generada con dataloader\n",
        "def train(model, iterator, optimizer, criterion, device):\n",
        "  epoch_loss = 0\n",
        "  epoch_acc = 0\n",
        "  #Poner la red en modo entrenamiento\n",
        "  model.train()\n",
        "  \n",
        "  #Training loop\n",
        "  #Se recorre toda la data con X:Valor de entrenamiento, Y:Etiqueta\n",
        "  for (x, y) in iterator:\n",
        "    x = x.to(device) #Data\n",
        "    y = y.long().to(device) #Labels\n",
        "        \n",
        "    optimizer.zero_grad() #Limpiar gradientes\n",
        "    #Enviar data a red      \n",
        "    y_pred, _ = model(x) \n",
        "    #Computar el loss    \n",
        "    loss = criterion(y_pred, y) \n",
        "    #Computar el accuracy   \n",
        "    acc = calculate_accuracy(y_pred, y) \n",
        "    #Computar gradientes    \n",
        "    loss.backward() \n",
        "    #Aplicar reglas de actualizacion    \n",
        "    optimizer.step() \n",
        "        \n",
        "    epoch_loss += loss.item()\n",
        "    epoch_acc += acc.item()\n",
        "        \n",
        "  return epoch_loss / len(iterator), epoch_acc / len(iterator)"
      ],
      "execution_count": 17,
      "outputs": []
    },
    {
      "cell_type": "code",
      "metadata": {
        "id": "pLYCWXZKNgdW"
      },
      "source": [
        "def evaluate(model, iterator, criterion, device):\n",
        "  epoch_loss = 0\n",
        "  epoch_acc = 0\n",
        "\n",
        "  model.eval()\n",
        "    \n",
        "  with torch.no_grad(): \n",
        "        \n",
        "    for (x, y) in iterator:\n",
        "      x = x.to(device)\n",
        "      y = y.long().to(device)\n",
        "\n",
        "      y_pred, _ = model(x)\n",
        "\n",
        "      loss = criterion(y_pred, y)\n",
        "\n",
        "      acc = calculate_accuracy(y_pred, y)\n",
        "\n",
        "      epoch_loss += loss.item()\n",
        "      epoch_acc += acc.item()\n",
        "  return epoch_loss / len(iterator), epoch_acc / len(iterator)\n",
        "\n",
        "def epoch_time(start_time, end_time):\n",
        "    elapsed_time = end_time - start_time\n",
        "    elapsed_mins = int(elapsed_time / 60)\n",
        "    elapsed_secs = int(elapsed_time - (elapsed_mins * 60))\n",
        "    return elapsed_mins, elapsed_secs"
      ],
      "execution_count": 18,
      "outputs": []
    },
    {
      "cell_type": "code",
      "metadata": {
        "colab": {
          "base_uri": "https://localhost:8080/"
        },
        "id": "Bk-UgWrYNj6s",
        "outputId": "8aa03953-c74f-4302-af07-70bfb92e72f1"
      },
      "source": [
        "EPOCHS = 30\n",
        "\n",
        "best_valid_loss = float('inf')\n",
        "train_loss_history = []\n",
        "val_loss_history = []\n",
        "\n",
        "for epoch in range(EPOCHS):\n",
        "    \n",
        "  start_time = time.time()\n",
        "\n",
        "  train_loss, train_acc = train(model, train_loader, optimizer, criterion, device)\n",
        "  valid_loss, valid_acc = evaluate(model, test_loader, criterion, device)\n",
        "\n",
        "  train_loss_history.append(train_loss)\n",
        "  val_loss_history.append(valid_loss)\n",
        "    \n",
        "  if valid_loss < best_valid_loss:\n",
        "    best_valid_loss = valid_loss\n",
        "    torch.save(model.state_dict(), 'saved-model.pt')\n",
        "    \n",
        "  end_time = time.time()\n",
        "\n",
        "  epoch_mins, epoch_secs = epoch_time(start_time, end_time)\n",
        "    \n",
        "  print(f'Epoch: {epoch+1:02} | Epoch Time: {epoch_mins}m {epoch_secs}s')\n",
        "  print(f'\\tTrain Loss: {train_loss:.3f} | Train Acc: {train_acc*100:.2f}%')\n",
        "  print(f'\\t Val. Loss: {valid_loss:.3f} |  Val. Acc: {valid_acc*100:.2f}%')"
      ],
      "execution_count": 30,
      "outputs": [
        {
          "output_type": "stream",
          "name": "stdout",
          "text": [
            "Epoch: 01 | Epoch Time: 0m 14s\n",
            "\tTrain Loss: 2.225 | Train Acc: 42.66%\n",
            "\t Val. Loss: 2.223 |  Val. Acc: 43.91%\n",
            "Epoch: 02 | Epoch Time: 0m 14s\n",
            "\tTrain Loss: 2.206 | Train Acc: 44.06%\n",
            "\t Val. Loss: 2.203 |  Val. Acc: 45.04%\n",
            "Epoch: 03 | Epoch Time: 0m 14s\n",
            "\tTrain Loss: 2.185 | Train Acc: 45.82%\n",
            "\t Val. Loss: 2.184 |  Val. Acc: 46.86%\n",
            "Epoch: 04 | Epoch Time: 0m 14s\n",
            "\tTrain Loss: 2.166 | Train Acc: 47.02%\n",
            "\t Val. Loss: 2.165 |  Val. Acc: 47.99%\n",
            "Epoch: 05 | Epoch Time: 0m 22s\n",
            "\tTrain Loss: 2.148 | Train Acc: 47.89%\n",
            "\t Val. Loss: 2.148 |  Val. Acc: 48.54%\n",
            "Epoch: 06 | Epoch Time: 0m 15s\n",
            "\tTrain Loss: 2.130 | Train Acc: 48.71%\n",
            "\t Val. Loss: 2.132 |  Val. Acc: 49.28%\n",
            "Epoch: 07 | Epoch Time: 0m 18s\n",
            "\tTrain Loss: 2.113 | Train Acc: 49.33%\n",
            "\t Val. Loss: 2.116 |  Val. Acc: 49.94%\n",
            "Epoch: 08 | Epoch Time: 0m 18s\n",
            "\tTrain Loss: 2.098 | Train Acc: 49.69%\n",
            "\t Val. Loss: 2.102 |  Val. Acc: 50.38%\n",
            "Epoch: 09 | Epoch Time: 0m 22s\n",
            "\tTrain Loss: 2.083 | Train Acc: 49.93%\n",
            "\t Val. Loss: 2.088 |  Val. Acc: 50.73%\n",
            "Epoch: 10 | Epoch Time: 0m 15s\n",
            "\tTrain Loss: 2.070 | Train Acc: 50.26%\n",
            "\t Val. Loss: 2.075 |  Val. Acc: 51.12%\n",
            "Epoch: 11 | Epoch Time: 0m 22s\n",
            "\tTrain Loss: 2.056 | Train Acc: 50.43%\n",
            "\t Val. Loss: 2.062 |  Val. Acc: 51.08%\n",
            "Epoch: 12 | Epoch Time: 0m 15s\n",
            "\tTrain Loss: 2.044 | Train Acc: 50.48%\n",
            "\t Val. Loss: 2.051 |  Val. Acc: 51.25%\n",
            "Epoch: 13 | Epoch Time: 0m 22s\n",
            "\tTrain Loss: 2.032 | Train Acc: 50.57%\n",
            "\t Val. Loss: 2.040 |  Val. Acc: 51.16%\n",
            "Epoch: 14 | Epoch Time: 0m 15s\n",
            "\tTrain Loss: 2.021 | Train Acc: 50.58%\n",
            "\t Val. Loss: 2.030 |  Val. Acc: 51.12%\n",
            "Epoch: 15 | Epoch Time: 0m 18s\n",
            "\tTrain Loss: 2.011 | Train Acc: 50.67%\n",
            "\t Val. Loss: 2.020 |  Val. Acc: 51.20%\n",
            "Epoch: 16 | Epoch Time: 0m 18s\n",
            "\tTrain Loss: 2.000 | Train Acc: 50.70%\n",
            "\t Val. Loss: 2.011 |  Val. Acc: 51.38%\n",
            "Epoch: 17 | Epoch Time: 0m 22s\n",
            "\tTrain Loss: 1.991 | Train Acc: 50.80%\n",
            "\t Val. Loss: 2.002 |  Val. Acc: 51.29%\n",
            "Epoch: 18 | Epoch Time: 0m 15s\n",
            "\tTrain Loss: 1.981 | Train Acc: 50.85%\n",
            "\t Val. Loss: 1.993 |  Val. Acc: 51.25%\n",
            "Epoch: 19 | Epoch Time: 0m 22s\n",
            "\tTrain Loss: 1.972 | Train Acc: 50.91%\n",
            "\t Val. Loss: 1.985 |  Val. Acc: 51.33%\n",
            "Epoch: 20 | Epoch Time: 0m 15s\n",
            "\tTrain Loss: 1.965 | Train Acc: 50.91%\n",
            "\t Val. Loss: 1.977 |  Val. Acc: 51.38%\n",
            "Epoch: 21 | Epoch Time: 0m 22s\n",
            "\tTrain Loss: 1.956 | Train Acc: 50.94%\n",
            "\t Val. Loss: 1.970 |  Val. Acc: 51.51%\n",
            "Epoch: 22 | Epoch Time: 0m 15s\n",
            "\tTrain Loss: 1.947 | Train Acc: 50.99%\n",
            "\t Val. Loss: 1.963 |  Val. Acc: 51.46%\n",
            "Epoch: 23 | Epoch Time: 0m 18s\n",
            "\tTrain Loss: 1.940 | Train Acc: 51.02%\n",
            "\t Val. Loss: 1.956 |  Val. Acc: 51.51%\n",
            "Epoch: 24 | Epoch Time: 0m 18s\n",
            "\tTrain Loss: 1.932 | Train Acc: 51.05%\n",
            "\t Val. Loss: 1.949 |  Val. Acc: 51.59%\n",
            "Epoch: 25 | Epoch Time: 0m 18s\n",
            "\tTrain Loss: 1.926 | Train Acc: 51.06%\n",
            "\t Val. Loss: 1.942 |  Val. Acc: 51.59%\n",
            "Epoch: 26 | Epoch Time: 0m 20s\n",
            "\tTrain Loss: 1.918 | Train Acc: 51.07%\n",
            "\t Val. Loss: 1.936 |  Val. Acc: 51.68%\n",
            "Epoch: 27 | Epoch Time: 0m 22s\n",
            "\tTrain Loss: 1.912 | Train Acc: 51.24%\n",
            "\t Val. Loss: 1.930 |  Val. Acc: 51.50%\n",
            "Epoch: 28 | Epoch Time: 0m 14s\n",
            "\tTrain Loss: 1.904 | Train Acc: 51.25%\n",
            "\t Val. Loss: 1.924 |  Val. Acc: 51.54%\n",
            "Epoch: 29 | Epoch Time: 0m 22s\n",
            "\tTrain Loss: 1.898 | Train Acc: 51.25%\n",
            "\t Val. Loss: 1.918 |  Val. Acc: 51.67%\n",
            "Epoch: 30 | Epoch Time: 0m 14s\n",
            "\tTrain Loss: 1.892 | Train Acc: 51.34%\n",
            "\t Val. Loss: 1.912 |  Val. Acc: 51.67%\n"
          ]
        }
      ]
    },
    {
      "cell_type": "code",
      "metadata": {
        "colab": {
          "base_uri": "https://localhost:8080/",
          "height": 265
        },
        "id": "snrVLeJ8QDJ_",
        "outputId": "4e34dca8-36ad-4cfe-9647-d75280702825"
      },
      "source": [
        "#Visualizar las perdidas\n",
        "plt.figure()\n",
        "plt.plot(train_loss_history, color='b')\n",
        "plt.plot(val_loss_history, color='r')\n",
        "plt.show()"
      ],
      "execution_count": 31,
      "outputs": [
        {
          "output_type": "display_data",
          "data": {
            "image/png": "[encoded data removed]",
            "text/plain": [
              "<Figure size 432x288 with 1 Axes>"
            ]
          },
          "metadata": {
            "needs_background": "light"
          }
        }
      ]
    }
  ]
}